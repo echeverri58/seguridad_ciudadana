homicidios = 'https://www.policia.gov.co/sites/default/files/delitos-impacto/homicidios.xls'
abigueato = 'https://www.policia.gov.co/sites/default/files/delitos-impacto/abigeato_3.xls'
amenazas = 'https://www.policia.gov.co/sites/default/files/delitos-impacto/amenazas.xls'
delitossexuales = 'https://www.policia.gov.co/sites/default/files/delitos-impacto/delitos_sexuales.xls'
extorsion = 'https://www.policia.gov.co/sites/default/files/delitos-impacto/extorsion.xls'
homicidios_transito = 'https://www.policia.gov.co/sites/default/files/delitos-impacto/homicidios_en_accidente_de_transito.xls'
hurto_motocicletas = 'https://www.policia.gov.co/sites/default/files/delitos-impacto/hurto_a_motocicletas__0.xls'
hurto_comercio = 'https://www.policia.gov.co/sites/default/files/delitos-impacto/hurto_a_comercio.xls'
hurto_financieras = 'https://www.policia.gov.co/sites/default/files/delitos-impacto/hurto_entidades_financieras.xls'
lecciones_accidentes = 'https://www.policia.gov.co/sites/default/files/delitos-impacto/lesiones_en_accidente_de_transito.xls'
lecciones_personales = 'https://www.policia.gov.co/sites/default/files/delitos-impacto/lesiones_personales.xls'
pirateria_terrestre = 'https://www.policia.gov.co/sites/default/files/delitos-impacto/hurto_a_pirateria_terrestre.xls'
secuestro = 'https://www.policia.gov.co/sites/default/files/delitos-impacto/secuestro.xls'
terrorismo = 'https://www.policia.gov.co/sites/default/files/delitos-impacto/terrorismo.xls'
violencia_intrafamiliar = 'https://www.policia.gov.co/sites/default/files/delitos-impacto/violencia_intrafamiliar_1.xls'

sgc1 = [homicidios,abigueato,amenazas,delitossexuales,extorsion,homicidios_transito,hurto_motocicletas,hurto_comercio,hurto_financieras,lecciones_accidentes,lecciones_personales,pirateria_terrestre,secuestro,terrorismo,violencia_intrafamiliar]

hurto_personas = 'https://www.policia.gov.co/sites/default/files/delitos-impacto/hurto_a_personas.xlsx'
hurto_residencias = 'https://www.policia.gov.co/sites/default/files/delitos-impacto/hurto_a_residencias.xlsx'
hurto_automotores = 'https://www.policia.gov.co/sites/default/files/delitos-impacto/hurto_automotores.xlsx'

sgc2 = [hurto_personas,hurto_residencias,hurto_automotores]












